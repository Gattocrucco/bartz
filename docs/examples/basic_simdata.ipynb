{
  "nbformat": 4,
  "nbformat_minor": 0,
  "metadata": {
    "colab": {
      "provenance": [],
      "gpuType": "T4"
    },
    "kernelspec": {
      "name": "python3",
      "display_name": "Python 3"
    },
    "language_info": {
      "name": "python"
    },
    "accelerator": "GPU"
  },
  "cells": [
    {
      "cell_type": "code",
      "source": [
        "%pip install jax[cuda12]>=0.5.3 bartz"
      ],
      "metadata": {
        "id": "gAIYdaOqXP5g"
      },
      "execution_count": 1,
      "outputs": []
    },
    {
      "cell_type": "markdown",
      "source": [
        "The next cell tells JAX to use all and only 95% of the GPU memory:"
      ],
      "metadata": {
        "id": "jfDOl1RlfoKx"
      }
    },
    {
      "cell_type": "code",
      "execution_count": 2,
      "metadata": {
        "id": "n3kjX0pvXOWc"
      },
      "outputs": [],
      "source": [
        "import os\n",
        "\n",
        "os.environ['XLA_PYTHON_CLIENT_MEM_FRACTION'] = '.95'"
      ]
    },
    {
      "cell_type": "markdown",
      "source": [
        "The next cell defines the data generating process (DGP) $$y_i=\\frac 1{\\text{norm.}} \\sum_{j=1}^p X_{ij} \\beta_j + \\frac 1{\\text{norm.}} \\sum_{j=1}^p \\sum_{k=1}^p A_{jk} X_{ij} X_{ik} + \\varepsilon_i,$$ where the matrix $A$ is sparse."
      ],
      "metadata": {
        "id": "kN-fpqLVfz-M"
      }
    },
    {
      "cell_type": "code",
      "source": [
        "from functools import partial\n",
        "\n",
        "import jax\n",
        "from jax import numpy as jnp\n",
        "from jax import random\n",
        "\n",
        "@partial(jax.jit, static_argnums=(1, 2))\n",
        "def dgp(key, n, p, max_interactions, error_sdev):\n",
        "    \"\"\" DGP. Uses data-based standardization, so you have to generate train &\n",
        "    test at once. \"\"\"\n",
        "\n",
        "    # split random key\n",
        "    keys = list(random.split(key, 4))\n",
        "\n",
        "    # generate matrices\n",
        "    X = random.uniform(keys.pop(), (p, n))\n",
        "    beta = random.normal(keys.pop(), (p,))\n",
        "    A = random.normal(keys.pop(), (p, p))\n",
        "    error = random.normal(keys.pop(), (n,))\n",
        "\n",
        "    # make A banded to limit the number of interactions\n",
        "    num_nonzero = 1 + (max_interactions - 1) // 2\n",
        "    num_nonzero = jnp.clip(num_nonzero, 0, p)\n",
        "    interaction_pattern = jnp.arange(p) < num_nonzero\n",
        "    multi_roll = jax.vmap(jnp.roll, in_axes=(None, 0))\n",
        "    nonzero = multi_roll(interaction_pattern, jnp.arange(p))\n",
        "    A *= nonzero\n",
        "\n",
        "    # compute terms\n",
        "    linear = beta @ X\n",
        "    quadratic = jnp.einsum('ai,bi,ab->i', X, X, A)\n",
        "    error *= error_sdev\n",
        "\n",
        "    # equalize the terms\n",
        "    latent = linear / jnp.std(linear) + quadratic / jnp.std(quadratic)\n",
        "    latent /= jnp.std(latent)  # because linear and quadratic are correlated\n",
        "\n",
        "    # compute response\n",
        "    y = latent + error\n",
        "\n",
        "    return X, y"
      ],
      "metadata": {
        "id": "WoxELDG6Xbbn"
      },
      "execution_count": 3,
      "outputs": []
    },
    {
      "cell_type": "markdown",
      "source": [
        "The next cell defines a convenience function that generates the data and splits it in train/test sets."
      ],
      "metadata": {
        "id": "oNSvjWAVV7M5"
      }
    },
    {
      "cell_type": "code",
      "source": [
        "from collections import namedtuple\n",
        "\n",
        "Data = namedtuple('Data', 'X_train y_train X_test y_test')\n",
        "\n",
        "def make_synthetic_dataset(key, n_train, n_test, p, sigma):\n",
        "    X, y = dgp(key, n_train + n_test, p, 5, sigma)\n",
        "    X_train, y_train = X[:, :n_train], y[:n_train]\n",
        "    X_test, y_test = X[:, n_train:], y[n_train:]\n",
        "    return Data(X_train, y_train, X_test, y_test)"
      ],
      "metadata": {
        "id": "ysQGFM0UV6o-"
      },
      "execution_count": 4,
      "outputs": []
    },
    {
      "cell_type": "markdown",
      "source": [
        "The next generates the data and runs BART."
      ],
      "metadata": {
        "id": "WtoDbUNDKFgz"
      }
    },
    {
      "cell_type": "code",
      "source": [
        "from time import perf_counter\n",
        "\n",
        "from bartz.BART import gbart\n",
        "\n",
        "n_train = 100_000  # number of training points\n",
        "p = 1000           # number of predictors/features\n",
        "sigma = 0.1        # error standard deviation\n",
        "\n",
        "n_test = 1000      # number of test points\n",
        "n_tree = 10_000    # number of trees used by bartz\n",
        "\n",
        "# seeds for random sampling\n",
        "keys = list(random.split(random.key(202404161853), 2))\n",
        "\n",
        "# generate the data on CPU to avoid running out of GPU memory\n",
        "cpu = jax.devices('cpu')[0]\n",
        "key = jax.device_put(keys.pop(), cpu) # the random key is the only jax-array input, so it determines the device used\n",
        "data = make_synthetic_dataset(key, n_train, n_test, p, sigma)\n",
        "\n",
        "# move the data to GPU (if there is a GPU)\n",
        "device = jax.devices()[0] # the default jax device is gpu if there is one\n",
        "data = jax.device_put(data, device)\n",
        "\n",
        "# run bartz\n",
        "start = perf_counter()\n",
        "bart = gbart(data.X_train, data.y_train, ntree=n_tree, printevery=10, seed=keys.pop())\n",
        "end = perf_counter()"
      ],
      "metadata": {
        "id": "hFK9jGWdJ8aH",
        "outputId": "903c25d5-32f4-48a8-e39e-e8314ceb47ac",
        "colab": {
          "base_uri": "https://localhost:8080/"
        }
      },
      "execution_count": 5,
      "outputs": [
        {
          "output_type": "stream",
          "name": "stdout",
          "text": [
            "..........\n",
            "It 10/1100 grow P=54% A=27%, prune P=46% A=31%, fill=6% (burnin)\n",
            "..........\n",
            "It 20/1100 grow P=53% A=24%, prune P=47% A=28%, fill=6% (burnin)\n",
            "..........\n",
            "It 30/1100 grow P=54% A=23%, prune P=46% A=26%, fill=6% (burnin)\n",
            "..........\n",
            "It 40/1100 grow P=53% A=22%, prune P=47% A=26%, fill=6% (burnin)\n",
            "..........\n",
            "It 50/1100 grow P=54% A=22%, prune P=46% A=26%, fill=6% (burnin)\n",
            "..........\n",
            "It 60/1100 grow P=54% A=21%, prune P=46% A=26%, fill=6% (burnin)\n",
            "..........\n",
            "It 70/1100 grow P=53% A=21%, prune P=47% A=24%, fill=6% (burnin)\n",
            "..........\n",
            "It 80/1100 grow P=53% A=22%, prune P=47% A=25%, fill=6% (burnin)\n",
            "..........\n",
            "It 90/1100 grow P=53% A=21%, prune P=47% A=23%, fill=6% (burnin)\n",
            "..........\n",
            "It 100/1100 grow P=54% A=21%, prune P=46% A=25%, fill=6% (burnin)\n",
            "..........\n",
            "It 110/1100 grow P=54% A=21%, prune P=46% A=25%, fill=6%\n",
            "..........\n",
            "It 120/1100 grow P=54% A=20%, prune P=46% A=23%, fill=6%\n",
            "..........\n",
            "It 130/1100 grow P=53% A=20%, prune P=47% A=22%, fill=6%\n",
            "..........\n",
            "It 140/1100 grow P=54% A=20%, prune P=46% A=24%, fill=6%\n",
            "..........\n",
            "It 150/1100 grow P=55% A=19%, prune P=45% A=24%, fill=6%\n",
            "..........\n",
            "It 160/1100 grow P=54% A=20%, prune P=46% A=23%, fill=6%\n",
            "..........\n",
            "It 170/1100 grow P=54% A=19%, prune P=46% A=23%, fill=6%\n",
            "..........\n",
            "It 180/1100 grow P=53% A=19%, prune P=47% A=23%, fill=6%\n",
            "..........\n",
            "It 190/1100 grow P=54% A=20%, prune P=46% A=23%, fill=6%\n",
            "..........\n",
            "It 200/1100 grow P=53% A=20%, prune P=47% A=23%, fill=6%\n",
            "..........\n",
            "It 210/1100 grow P=53% A=20%, prune P=47% A=23%, fill=6%\n",
            "..........\n",
            "It 220/1100 grow P=53% A=19%, prune P=47% A=21%, fill=6%\n",
            "..........\n",
            "It 230/1100 grow P=53% A=19%, prune P=47% A=23%, fill=6%\n",
            "..........\n",
            "It 240/1100 grow P=54% A=19%, prune P=46% A=20%, fill=6%\n",
            "..........\n",
            "It 250/1100 grow P=53% A=18%, prune P=47% A=22%, fill=6%\n",
            "..........\n",
            "It 260/1100 grow P=55% A=19%, prune P=45% A=22%, fill=6%\n",
            "..........\n",
            "It 270/1100 grow P=53% A=19%, prune P=47% A=22%, fill=6%\n",
            "..........\n",
            "It 280/1100 grow P=54% A=19%, prune P=46% A=22%, fill=6%\n",
            "..........\n",
            "It 290/1100 grow P=54% A=19%, prune P=46% A=21%, fill=6%\n",
            "..........\n",
            "It 300/1100 grow P=54% A=19%, prune P=46% A=21%, fill=6%\n",
            "..........\n",
            "It 310/1100 grow P=54% A=18%, prune P=46% A=22%, fill=6%\n",
            "..........\n",
            "It 320/1100 grow P=53% A=18%, prune P=47% A=22%, fill=6%\n",
            "..........\n",
            "It 330/1100 grow P=54% A=18%, prune P=46% A=21%, fill=6%\n",
            "..........\n",
            "It 340/1100 grow P=53% A=18%, prune P=47% A=20%, fill=6%\n",
            "..........\n",
            "It 350/1100 grow P=54% A=18%, prune P=46% A=21%, fill=6%\n",
            "..........\n",
            "It 360/1100 grow P=54% A=18%, prune P=46% A=20%, fill=6%\n",
            "..........\n",
            "It 370/1100 grow P=53% A=19%, prune P=47% A=20%, fill=6%\n",
            "..........\n",
            "It 380/1100 grow P=55% A=18%, prune P=45% A=21%, fill=6%\n",
            "..........\n",
            "It 390/1100 grow P=54% A=17%, prune P=46% A=21%, fill=6%\n",
            "..........\n",
            "It 400/1100 grow P=54% A=18%, prune P=46% A=21%, fill=6%\n",
            "..........\n",
            "It 410/1100 grow P=54% A=19%, prune P=46% A=21%, fill=6%\n",
            "..........\n",
            "It 420/1100 grow P=54% A=18%, prune P=46% A=20%, fill=6%\n",
            "..........\n",
            "It 430/1100 grow P=54% A=17%, prune P=46% A=21%, fill=6%\n",
            "..........\n",
            "It 440/1100 grow P=54% A=18%, prune P=46% A=21%, fill=6%\n",
            "..........\n",
            "It 450/1100 grow P=54% A=19%, prune P=46% A=20%, fill=6%\n",
            "..........\n",
            "It 460/1100 grow P=54% A=18%, prune P=46% A=20%, fill=6%\n",
            "..........\n",
            "It 470/1100 grow P=53% A=17%, prune P=47% A=21%, fill=6%\n",
            "..........\n",
            "It 480/1100 grow P=54% A=17%, prune P=46% A=20%, fill=6%\n",
            "..........\n",
            "It 490/1100 grow P=53% A=17%, prune P=47% A=19%, fill=6%\n",
            "..........\n",
            "It 500/1100 grow P=54% A=16%, prune P=46% A=20%, fill=6%\n",
            "..........\n",
            "It 510/1100 grow P=54% A=18%, prune P=46% A=20%, fill=6%\n",
            "..........\n",
            "It 520/1100 grow P=53% A=17%, prune P=47% A=20%, fill=6%\n",
            "..........\n",
            "It 530/1100 grow P=53% A=18%, prune P=47% A=20%, fill=6%\n",
            "..........\n",
            "It 540/1100 grow P=54% A=17%, prune P=46% A=21%, fill=6%\n",
            "..........\n",
            "It 550/1100 grow P=54% A=17%, prune P=46% A=19%, fill=6%\n",
            "..........\n",
            "It 560/1100 grow P=54% A=16%, prune P=46% A=20%, fill=6%\n",
            "..........\n",
            "It 570/1100 grow P=54% A=17%, prune P=46% A=19%, fill=6%\n",
            "..........\n",
            "It 580/1100 grow P=54% A=17%, prune P=46% A=20%, fill=6%\n",
            "..........\n",
            "It 590/1100 grow P=54% A=16%, prune P=46% A=19%, fill=6%\n",
            "..........\n",
            "It 600/1100 grow P=55% A=17%, prune P=45% A=19%, fill=6%\n",
            "..........\n",
            "It 610/1100 grow P=54% A=17%, prune P=46% A=20%, fill=6%\n",
            "..........\n",
            "It 620/1100 grow P=54% A=17%, prune P=46% A=20%, fill=6%\n",
            "..........\n",
            "It 630/1100 grow P=53% A=18%, prune P=47% A=19%, fill=6%\n",
            "..........\n",
            "It 640/1100 grow P=54% A=17%, prune P=46% A=18%, fill=6%\n",
            "..........\n",
            "It 650/1100 grow P=54% A=17%, prune P=46% A=20%, fill=6%\n",
            "..........\n",
            "It 660/1100 grow P=54% A=16%, prune P=46% A=19%, fill=6%\n",
            "..........\n",
            "It 670/1100 grow P=54% A=16%, prune P=46% A=19%, fill=6%\n",
            "..........\n",
            "It 680/1100 grow P=54% A=17%, prune P=46% A=19%, fill=6%\n",
            "..........\n",
            "It 690/1100 grow P=54% A=16%, prune P=46% A=20%, fill=6%\n",
            "..........\n",
            "It 700/1100 grow P=54% A=16%, prune P=46% A=19%, fill=6%\n",
            "..........\n",
            "It 710/1100 grow P=54% A=16%, prune P=46% A=20%, fill=6%\n",
            "..........\n",
            "It 720/1100 grow P=54% A=16%, prune P=46% A=19%, fill=6%\n",
            "..........\n",
            "It 730/1100 grow P=53% A=16%, prune P=47% A=19%, fill=6%\n",
            "..........\n",
            "It 740/1100 grow P=53% A=17%, prune P=47% A=18%, fill=6%\n",
            "..........\n",
            "It 750/1100 grow P=55% A=16%, prune P=45% A=20%, fill=6%\n",
            "..........\n",
            "It 760/1100 grow P=54% A=16%, prune P=46% A=19%, fill=6%\n",
            "..........\n",
            "It 770/1100 grow P=54% A=16%, prune P=46% A=19%, fill=6%\n",
            "..........\n",
            "It 780/1100 grow P=54% A=16%, prune P=46% A=19%, fill=6%\n",
            "..........\n",
            "It 790/1100 grow P=54% A=16%, prune P=46% A=19%, fill=6%\n",
            "..........\n",
            "It 800/1100 grow P=54% A=16%, prune P=46% A=18%, fill=6%\n",
            "..........\n",
            "It 810/1100 grow P=53% A=16%, prune P=47% A=19%, fill=6%\n",
            "..........\n",
            "It 820/1100 grow P=54% A=16%, prune P=46% A=18%, fill=6%\n",
            "..........\n",
            "It 830/1100 grow P=54% A=16%, prune P=46% A=18%, fill=6%\n",
            "..........\n",
            "It 840/1100 grow P=54% A=17%, prune P=46% A=18%, fill=6%\n",
            "..........\n",
            "It 850/1100 grow P=55% A=16%, prune P=45% A=18%, fill=6%\n",
            "..........\n",
            "It 860/1100 grow P=55% A=15%, prune P=45% A=18%, fill=6%\n",
            "..........\n",
            "It 870/1100 grow P=55% A=16%, prune P=45% A=19%, fill=6%\n",
            "..........\n",
            "It 880/1100 grow P=54% A=17%, prune P=46% A=18%, fill=6%\n",
            "..........\n",
            "It 890/1100 grow P=54% A=16%, prune P=46% A=18%, fill=6%\n",
            "..........\n",
            "It 900/1100 grow P=55% A=16%, prune P=45% A=18%, fill=6%\n",
            "..........\n",
            "It 910/1100 grow P=53% A=16%, prune P=47% A=19%, fill=6%\n",
            "..........\n",
            "It 920/1100 grow P=53% A=16%, prune P=47% A=20%, fill=6%\n",
            "..........\n",
            "It 930/1100 grow P=54% A=16%, prune P=46% A=18%, fill=6%\n",
            "..........\n",
            "It 940/1100 grow P=54% A=16%, prune P=46% A=18%, fill=6%\n",
            "..........\n",
            "It 950/1100 grow P=55% A=16%, prune P=46% A=18%, fill=6%\n",
            "..........\n",
            "It 960/1100 grow P=54% A=16%, prune P=46% A=18%, fill=6%\n",
            "..........\n",
            "It 970/1100 grow P=53% A=15%, prune P=47% A=17%, fill=6%\n",
            "..........\n",
            "It 980/1100 grow P=54% A=16%, prune P=46% A=20%, fill=6%\n",
            "..........\n",
            "It 990/1100 grow P=54% A=16%, prune P=46% A=18%, fill=6%\n",
            "..........\n",
            "It 1000/1100 grow P=54% A=16%, prune P=46% A=19%, fill=6%\n",
            "..........\n",
            "It 1010/1100 grow P=55% A=16%, prune P=45% A=18%, fill=6%\n",
            "..........\n",
            "It 1020/1100 grow P=54% A=16%, prune P=46% A=19%, fill=6%\n",
            "..........\n",
            "It 1030/1100 grow P=54% A=15%, prune P=46% A=18%, fill=6%\n",
            "..........\n",
            "It 1040/1100 grow P=55% A=15%, prune P=45% A=19%, fill=6%\n",
            "..........\n",
            "It 1050/1100 grow P=54% A=16%, prune P=46% A=18%, fill=6%\n",
            "..........\n",
            "It 1060/1100 grow P=53% A=15%, prune P=47% A=18%, fill=6%\n",
            "..........\n",
            "It 1070/1100 grow P=55% A=15%, prune P=45% A=17%, fill=6%\n",
            "..........\n",
            "It 1080/1100 grow P=53% A=16%, prune P=47% A=19%, fill=6%\n",
            "..........\n",
            "It 1090/1100 grow P=54% A=15%, prune P=46% A=18%, fill=6%\n",
            "..........\n",
            "It 1100/1100 grow P=54% A=15%, prune P=46% A=18%, fill=6%\n"
          ]
        }
      ]
    },
    {
      "cell_type": "markdown",
      "source": [
        "Interpretation of the printout:\n",
        "* grow P = fraction of trees where a GROW move was proposed\n",
        "* grow A = GROW acceptance: fraction of proposed GROW moves that were accepted\n",
        "* prune P, A = the same for the PRUNE move\n",
        "\n",
        "The fractions refer to the state of the trees at a single point in time, they are not averaged over multiple iterations.\n",
        "\n",
        "A low acceptance means that the trees are changing very slowly."
      ],
      "metadata": {
        "id": "BpyizlIjMeCw"
      }
    },
    {
      "cell_type": "markdown",
      "source": [
        "The next cell computes the predictions."
      ],
      "metadata": {
        "id": "ra9xOl3YNY2m"
      }
    },
    {
      "cell_type": "code",
      "source": [
        "# compute predictions\n",
        "yhat_test = bart.predict(data.X_test) # posterior samples, n_samples x n_test\n",
        "yhat_test_mean = jnp.mean(yhat_test, axis=0) # posterior mean point-by-point\n",
        "yhat_test_var = jnp.var(yhat_test, axis=0) # posterior variance point-by-point\n",
        "\n",
        "# RMSE\n",
        "rmse = jnp.sqrt(jnp.mean(jnp.square(yhat_test_mean - data.y_test)))\n",
        "expected_error_variance = jnp.mean(jnp.square(bart.sigma))\n",
        "expected_rmse = jnp.sqrt(jnp.mean(yhat_test_var + expected_error_variance))\n",
        "avg_sigma = jnp.sqrt(expected_error_variance)\n",
        "\n",
        "print(f'total sdev: {jnp.std(data.y_train):#.2g}')\n",
        "print(f'error sdev: {sigma:#.2g}')\n",
        "print(f'RMSE: {rmse:#.2g}')\n",
        "print(f'expected RMSE: {expected_rmse:#.2g}')\n",
        "print(f'model error sdev: {avg_sigma:#.2g}')\n",
        "print(f'time: {(end - start) / 60:#.2g} min')"
      ],
      "metadata": {
        "id": "W2v-A58BNbuX",
        "outputId": "146d246c-0918-47dd-e1a4-3e03cbcfd386",
        "colab": {
          "base_uri": "https://localhost:8080/"
        }
      },
      "execution_count": 6,
      "outputs": [
        {
          "output_type": "stream",
          "name": "stdout",
          "text": [
            "total sdev: 1.0\n",
            "error sdev: 0.10\n",
            "RMSE: 0.21\n",
            "expected RMSE: 0.21\n",
            "model error sdev: 0.17\n",
            "time: 6.5 min\n"
          ]
        }
      ]
    },
    {
      "cell_type": "markdown",
      "source": [
        "The RMSE can at best be as low as the error standard deviation used to generate the data."
      ],
      "metadata": {
        "id": "QigclpPkOVJq"
      }
    }
  ]
}
